{
 "cells": [
  {
   "cell_type": "markdown",
   "id": "90b9ec92",
   "metadata": {},
   "source": [
    "## Imports"
   ]
  },
  {
   "cell_type": "code",
   "execution_count": null,
   "id": "0e425d9d",
   "metadata": {},
   "outputs": [],
   "source": [
    "import io\n",
    "\n",
    "import boto3\n",
    "import pandas as pd"
   ]
  },
  {
   "cell_type": "markdown",
   "id": "2ccd9d96",
   "metadata": {},
   "source": [
    "## Downloading processed features"
   ]
  },
  {
   "cell_type": "code",
   "execution_count": 4,
   "id": "2f5caa4f",
   "metadata": {},
   "outputs": [],
   "source": [
    "s3 = boto3.client(\"s3\")"
   ]
  },
  {
   "cell_type": "code",
   "execution_count": 5,
   "id": "aab76e24",
   "metadata": {},
   "outputs": [
    {
     "name": "stdout",
     "output_type": "stream",
     "text": [
      "['epl-predictions-data-storage-478340992394', 'epl-predictions-mlflow-artifacts-478340992394', 'epl-predictor-tf-state']\n"
     ]
    }
   ],
   "source": [
    "buckets = s3.list_buckets()\n",
    "print([bucket[\"Name\"] for bucket in buckets[\"Buckets\"]])"
   ]
  },
  {
   "cell_type": "code",
   "execution_count": 23,
   "id": "5ac9adf6",
   "metadata": {},
   "outputs": [],
   "source": [
    "# read file from s3 to pandas dataframe\n",
    "file_name = \"processed/epl_features.parquet\"\n",
    "\n",
    "response = s3.get_object(\n",
    "  Bucket=\"epl-predictions-data-storage-478340992394\", \n",
    "  Key=file_name\n",
    ")"
   ]
  },
  {
   "cell_type": "code",
   "execution_count": 24,
   "id": "d880ccac",
   "metadata": {},
   "outputs": [],
   "source": [
    "# read response as parquet file\n",
    "df = pd.read_parquet(io.BytesIO(response[\"Body\"].read()))"
   ]
  },
  {
   "cell_type": "code",
   "execution_count": 25,
   "id": "8d1b1407",
   "metadata": {},
   "outputs": [
    {
     "data": {
      "text/html": [
       "<div>\n",
       "<style scoped>\n",
       "    .dataframe tbody tr th:only-of-type {\n",
       "        vertical-align: middle;\n",
       "    }\n",
       "\n",
       "    .dataframe tbody tr th {\n",
       "        vertical-align: top;\n",
       "    }\n",
       "\n",
       "    .dataframe thead th {\n",
       "        text-align: right;\n",
       "    }\n",
       "</style>\n",
       "<table border=\"1\" class=\"dataframe\">\n",
       "  <thead>\n",
       "    <tr style=\"text-align: right;\">\n",
       "      <th></th>\n",
       "      <th>match_id</th>\n",
       "      <th>date</th>\n",
       "      <th>hometeam</th>\n",
       "      <th>awayteam</th>\n",
       "      <th>home_wins_last_n</th>\n",
       "      <th>home_draws_last_n</th>\n",
       "      <th>home_losses_last_n</th>\n",
       "      <th>home_goals_scored_last_n</th>\n",
       "      <th>home_goals_conceded_last_n</th>\n",
       "      <th>home_form_points</th>\n",
       "      <th>...</th>\n",
       "      <th>h2h_draws</th>\n",
       "      <th>whd_home_avg</th>\n",
       "      <th>wha_home_avg</th>\n",
       "      <th>whh_home_avg</th>\n",
       "      <th>whd_away_avg</th>\n",
       "      <th>wha_away_avg</th>\n",
       "      <th>whh_away_avg</th>\n",
       "      <th>target_result</th>\n",
       "      <th>target_home_goals</th>\n",
       "      <th>target_away_goals</th>\n",
       "    </tr>\n",
       "  </thead>\n",
       "  <tbody>\n",
       "    <tr>\n",
       "      <th>0</th>\n",
       "      <td>0</td>\n",
       "      <td>2000-08-19</td>\n",
       "      <td>Sunderland</td>\n",
       "      <td>Arsenal</td>\n",
       "      <td>0</td>\n",
       "      <td>0</td>\n",
       "      <td>0</td>\n",
       "      <td>0</td>\n",
       "      <td>0</td>\n",
       "      <td>0</td>\n",
       "      <td>...</td>\n",
       "      <td>0</td>\n",
       "      <td>NaN</td>\n",
       "      <td>NaN</td>\n",
       "      <td>NaN</td>\n",
       "      <td>NaN</td>\n",
       "      <td>NaN</td>\n",
       "      <td>NaN</td>\n",
       "      <td>H</td>\n",
       "      <td>1</td>\n",
       "      <td>0</td>\n",
       "    </tr>\n",
       "    <tr>\n",
       "      <th>1</th>\n",
       "      <td>1</td>\n",
       "      <td>2000-08-19</td>\n",
       "      <td>Liverpool</td>\n",
       "      <td>Bradford</td>\n",
       "      <td>0</td>\n",
       "      <td>0</td>\n",
       "      <td>0</td>\n",
       "      <td>0</td>\n",
       "      <td>0</td>\n",
       "      <td>0</td>\n",
       "      <td>...</td>\n",
       "      <td>0</td>\n",
       "      <td>NaN</td>\n",
       "      <td>NaN</td>\n",
       "      <td>NaN</td>\n",
       "      <td>NaN</td>\n",
       "      <td>NaN</td>\n",
       "      <td>NaN</td>\n",
       "      <td>H</td>\n",
       "      <td>1</td>\n",
       "      <td>0</td>\n",
       "    </tr>\n",
       "    <tr>\n",
       "      <th>2</th>\n",
       "      <td>2</td>\n",
       "      <td>2000-08-19</td>\n",
       "      <td>Leicester</td>\n",
       "      <td>Aston Villa</td>\n",
       "      <td>0</td>\n",
       "      <td>0</td>\n",
       "      <td>0</td>\n",
       "      <td>0</td>\n",
       "      <td>0</td>\n",
       "      <td>0</td>\n",
       "      <td>...</td>\n",
       "      <td>0</td>\n",
       "      <td>NaN</td>\n",
       "      <td>NaN</td>\n",
       "      <td>NaN</td>\n",
       "      <td>NaN</td>\n",
       "      <td>NaN</td>\n",
       "      <td>NaN</td>\n",
       "      <td>D</td>\n",
       "      <td>0</td>\n",
       "      <td>0</td>\n",
       "    </tr>\n",
       "    <tr>\n",
       "      <th>3</th>\n",
       "      <td>3</td>\n",
       "      <td>2000-08-19</td>\n",
       "      <td>Leeds</td>\n",
       "      <td>Everton</td>\n",
       "      <td>0</td>\n",
       "      <td>0</td>\n",
       "      <td>0</td>\n",
       "      <td>0</td>\n",
       "      <td>0</td>\n",
       "      <td>0</td>\n",
       "      <td>...</td>\n",
       "      <td>0</td>\n",
       "      <td>NaN</td>\n",
       "      <td>NaN</td>\n",
       "      <td>NaN</td>\n",
       "      <td>NaN</td>\n",
       "      <td>NaN</td>\n",
       "      <td>NaN</td>\n",
       "      <td>H</td>\n",
       "      <td>2</td>\n",
       "      <td>0</td>\n",
       "    </tr>\n",
       "    <tr>\n",
       "      <th>4</th>\n",
       "      <td>4</td>\n",
       "      <td>2000-08-19</td>\n",
       "      <td>Tottenham</td>\n",
       "      <td>Ipswich</td>\n",
       "      <td>0</td>\n",
       "      <td>0</td>\n",
       "      <td>0</td>\n",
       "      <td>0</td>\n",
       "      <td>0</td>\n",
       "      <td>0</td>\n",
       "      <td>...</td>\n",
       "      <td>0</td>\n",
       "      <td>NaN</td>\n",
       "      <td>NaN</td>\n",
       "      <td>NaN</td>\n",
       "      <td>NaN</td>\n",
       "      <td>NaN</td>\n",
       "      <td>NaN</td>\n",
       "      <td>H</td>\n",
       "      <td>3</td>\n",
       "      <td>1</td>\n",
       "    </tr>\n",
       "  </tbody>\n",
       "</table>\n",
       "<p>5 rows × 28 columns</p>\n",
       "</div>"
      ],
      "text/plain": [
       "   match_id       date    hometeam     awayteam  home_wins_last_n  \\\n",
       "0         0 2000-08-19  Sunderland      Arsenal                 0   \n",
       "1         1 2000-08-19   Liverpool     Bradford                 0   \n",
       "2         2 2000-08-19   Leicester  Aston Villa                 0   \n",
       "3         3 2000-08-19       Leeds      Everton                 0   \n",
       "4         4 2000-08-19   Tottenham      Ipswich                 0   \n",
       "\n",
       "   home_draws_last_n  home_losses_last_n  home_goals_scored_last_n  \\\n",
       "0                  0                   0                         0   \n",
       "1                  0                   0                         0   \n",
       "2                  0                   0                         0   \n",
       "3                  0                   0                         0   \n",
       "4                  0                   0                         0   \n",
       "\n",
       "   home_goals_conceded_last_n  home_form_points  ...  h2h_draws  whd_home_avg  \\\n",
       "0                           0                 0  ...          0           NaN   \n",
       "1                           0                 0  ...          0           NaN   \n",
       "2                           0                 0  ...          0           NaN   \n",
       "3                           0                 0  ...          0           NaN   \n",
       "4                           0                 0  ...          0           NaN   \n",
       "\n",
       "   wha_home_avg  whh_home_avg  whd_away_avg  wha_away_avg  whh_away_avg  \\\n",
       "0           NaN           NaN           NaN           NaN           NaN   \n",
       "1           NaN           NaN           NaN           NaN           NaN   \n",
       "2           NaN           NaN           NaN           NaN           NaN   \n",
       "3           NaN           NaN           NaN           NaN           NaN   \n",
       "4           NaN           NaN           NaN           NaN           NaN   \n",
       "\n",
       "   target_result  target_home_goals  target_away_goals  \n",
       "0              H                  1                  0  \n",
       "1              H                  1                  0  \n",
       "2              D                  0                  0  \n",
       "3              H                  2                  0  \n",
       "4              H                  3                  1  \n",
       "\n",
       "[5 rows x 28 columns]"
      ]
     },
     "execution_count": 25,
     "metadata": {},
     "output_type": "execute_result"
    }
   ],
   "source": [
    "df.head()"
   ]
  },
  {
   "cell_type": "markdown",
   "id": "9ede7afc",
   "metadata": {},
   "source": [
    "## Model training"
   ]
  },
  {
   "cell_type": "code",
   "execution_count": null,
   "id": "a5a4eec8",
   "metadata": {},
   "outputs": [],
   "source": [
    "import numpy as np\n",
    "import pandas as pd\n",
    "\n",
    "import mlflow\n",
    "from mlflow.entities import ViewType\n",
    "from mlflow import MlflowClient\n",
    "\n",
    "from catboost import CatBoostClassifier, Pool\n",
    "from hyperopt import fmin, tpe, hp, STATUS_OK, Trials\n",
    "from sklearn.model_selection import train_test_split\n",
    "from sklearn.metrics import (\n",
    "    f1_score, accuracy_score, precision_score, recall_score, \n",
    "    classification_report, roc_auc_score\n",
    ")\n",
    "\n",
    "from xgboost import XGBClassifier\n",
    "from sklearn.pipeline import make_pipeline\n",
    "from sklearn.preprocessing import LabelEncoder"
   ]
  },
  {
   "cell_type": "code",
   "execution_count": 62,
   "id": "9bf11ed7",
   "metadata": {},
   "outputs": [],
   "source": [
    "mlflow.set_tracking_uri(\"http://localhost:5000\")\n",
    "mlflow.set_experiment(\"epl_predictions\")\n",
    "\n",
    "client = MlflowClient()"
   ]
  },
  {
   "cell_type": "markdown",
   "id": "dcf176cb",
   "metadata": {},
   "source": [
    "### Train-Validation split"
   ]
  },
  {
   "cell_type": "code",
   "execution_count": null,
   "id": "46f4ea6e",
   "metadata": {},
   "outputs": [],
   "source": [
    "# fix rows with insufficient historical data (early matches)\n",
    "df_ml = df.fillna(0.0, inplace=False)\n",
    "\n",
    "feature_cols = [col for col in df_ml.columns \n",
    "               if not col.startswith('target_') and \n",
    "               col not in ['match_id', 'date', 'div', 'season']]\n",
    "\n",
    "X = df_ml[feature_cols]\n",
    "y = df_ml[\"target_result\"]"
   ]
  },
  {
   "cell_type": "code",
   "execution_count": 74,
   "id": "2189bcaf",
   "metadata": {},
   "outputs": [
    {
     "data": {
      "text/html": [
       "<div>\n",
       "<style scoped>\n",
       "    .dataframe tbody tr th:only-of-type {\n",
       "        vertical-align: middle;\n",
       "    }\n",
       "\n",
       "    .dataframe tbody tr th {\n",
       "        vertical-align: top;\n",
       "    }\n",
       "\n",
       "    .dataframe thead th {\n",
       "        text-align: right;\n",
       "    }\n",
       "</style>\n",
       "<table border=\"1\" class=\"dataframe\">\n",
       "  <thead>\n",
       "    <tr style=\"text-align: right;\">\n",
       "      <th></th>\n",
       "      <th>hometeam</th>\n",
       "      <th>awayteam</th>\n",
       "      <th>home_wins_last_n</th>\n",
       "      <th>home_draws_last_n</th>\n",
       "      <th>home_losses_last_n</th>\n",
       "      <th>home_goals_scored_last_n</th>\n",
       "      <th>home_goals_conceded_last_n</th>\n",
       "      <th>home_form_points</th>\n",
       "      <th>away_wins_last_n</th>\n",
       "      <th>away_draws_last_n</th>\n",
       "      <th>...</th>\n",
       "      <th>away_form_points</th>\n",
       "      <th>h2h_home_wins</th>\n",
       "      <th>h2h_away_wins</th>\n",
       "      <th>h2h_draws</th>\n",
       "      <th>whd_home_avg</th>\n",
       "      <th>wha_home_avg</th>\n",
       "      <th>whh_home_avg</th>\n",
       "      <th>whd_away_avg</th>\n",
       "      <th>wha_away_avg</th>\n",
       "      <th>whh_away_avg</th>\n",
       "    </tr>\n",
       "  </thead>\n",
       "  <tbody>\n",
       "    <tr>\n",
       "      <th>8735</th>\n",
       "      <td>Ipswich</td>\n",
       "      <td>West Ham</td>\n",
       "      <td>0</td>\n",
       "      <td>1</td>\n",
       "      <td>4</td>\n",
       "      <td>2</td>\n",
       "      <td>12</td>\n",
       "      <td>1</td>\n",
       "      <td>1</td>\n",
       "      <td>2</td>\n",
       "      <td>...</td>\n",
       "      <td>5</td>\n",
       "      <td>0</td>\n",
       "      <td>1</td>\n",
       "      <td>1</td>\n",
       "      <td>3.746861</td>\n",
       "      <td>4.332935</td>\n",
       "      <td>2.368596</td>\n",
       "      <td>3.627224</td>\n",
       "      <td>4.040413</td>\n",
       "      <td>2.499936</td>\n",
       "    </tr>\n",
       "    <tr>\n",
       "      <th>8736</th>\n",
       "      <td>Fulham</td>\n",
       "      <td>Man City</td>\n",
       "      <td>2</td>\n",
       "      <td>0</td>\n",
       "      <td>3</td>\n",
       "      <td>7</td>\n",
       "      <td>9</td>\n",
       "      <td>6</td>\n",
       "      <td>4</td>\n",
       "      <td>1</td>\n",
       "      <td>...</td>\n",
       "      <td>13</td>\n",
       "      <td>1</td>\n",
       "      <td>10</td>\n",
       "      <td>3</td>\n",
       "      <td>3.619192</td>\n",
       "      <td>4.165946</td>\n",
       "      <td>2.523772</td>\n",
       "      <td>4.688571</td>\n",
       "      <td>6.252343</td>\n",
       "      <td>3.566526</td>\n",
       "    </tr>\n",
       "    <tr>\n",
       "      <th>8737</th>\n",
       "      <td>Bournemouth</td>\n",
       "      <td>Leicester</td>\n",
       "      <td>1</td>\n",
       "      <td>2</td>\n",
       "      <td>2</td>\n",
       "      <td>4</td>\n",
       "      <td>6</td>\n",
       "      <td>5</td>\n",
       "      <td>2</td>\n",
       "      <td>1</td>\n",
       "      <td>...</td>\n",
       "      <td>7</td>\n",
       "      <td>4</td>\n",
       "      <td>0</td>\n",
       "      <td>2</td>\n",
       "      <td>4.006026</td>\n",
       "      <td>4.440130</td>\n",
       "      <td>2.668948</td>\n",
       "      <td>3.710325</td>\n",
       "      <td>4.158901</td>\n",
       "      <td>2.543176</td>\n",
       "    </tr>\n",
       "    <tr>\n",
       "      <th>8738</th>\n",
       "      <td>Liverpool</td>\n",
       "      <td>Crystal Palace</td>\n",
       "      <td>2</td>\n",
       "      <td>1</td>\n",
       "      <td>2</td>\n",
       "      <td>11</td>\n",
       "      <td>9</td>\n",
       "      <td>7</td>\n",
       "      <td>2</td>\n",
       "      <td>3</td>\n",
       "      <td>...</td>\n",
       "      <td>9</td>\n",
       "      <td>6</td>\n",
       "      <td>4</td>\n",
       "      <td>1</td>\n",
       "      <td>4.165736</td>\n",
       "      <td>5.263877</td>\n",
       "      <td>3.030688</td>\n",
       "      <td>3.739806</td>\n",
       "      <td>4.391757</td>\n",
       "      <td>2.762035</td>\n",
       "    </tr>\n",
       "    <tr>\n",
       "      <th>8739</th>\n",
       "      <td>Wolves</td>\n",
       "      <td>Brentford</td>\n",
       "      <td>2</td>\n",
       "      <td>0</td>\n",
       "      <td>3</td>\n",
       "      <td>6</td>\n",
       "      <td>7</td>\n",
       "      <td>6</td>\n",
       "      <td>4</td>\n",
       "      <td>0</td>\n",
       "      <td>...</td>\n",
       "      <td>12</td>\n",
       "      <td>1</td>\n",
       "      <td>2</td>\n",
       "      <td>0</td>\n",
       "      <td>3.784099</td>\n",
       "      <td>4.423717</td>\n",
       "      <td>2.719272</td>\n",
       "      <td>3.900398</td>\n",
       "      <td>4.026331</td>\n",
       "      <td>2.570469</td>\n",
       "    </tr>\n",
       "  </tbody>\n",
       "</table>\n",
       "<p>5 rows × 23 columns</p>\n",
       "</div>"
      ],
      "text/plain": [
       "         hometeam        awayteam  home_wins_last_n  home_draws_last_n  \\\n",
       "8735      Ipswich        West Ham                 0                  1   \n",
       "8736       Fulham        Man City                 2                  0   \n",
       "8737  Bournemouth       Leicester                 1                  2   \n",
       "8738    Liverpool  Crystal Palace                 2                  1   \n",
       "8739       Wolves       Brentford                 2                  0   \n",
       "\n",
       "      home_losses_last_n  home_goals_scored_last_n  \\\n",
       "8735                   4                         2   \n",
       "8736                   3                         7   \n",
       "8737                   2                         4   \n",
       "8738                   2                        11   \n",
       "8739                   3                         6   \n",
       "\n",
       "      home_goals_conceded_last_n  home_form_points  away_wins_last_n  \\\n",
       "8735                          12                 1                 1   \n",
       "8736                           9                 6                 4   \n",
       "8737                           6                 5                 2   \n",
       "8738                           9                 7                 2   \n",
       "8739                           7                 6                 4   \n",
       "\n",
       "      away_draws_last_n  ...  away_form_points  h2h_home_wins  h2h_away_wins  \\\n",
       "8735                  2  ...                 5              0              1   \n",
       "8736                  1  ...                13              1             10   \n",
       "8737                  1  ...                 7              4              0   \n",
       "8738                  3  ...                 9              6              4   \n",
       "8739                  0  ...                12              1              2   \n",
       "\n",
       "      h2h_draws  whd_home_avg  wha_home_avg  whh_home_avg  whd_away_avg  \\\n",
       "8735          1      3.746861      4.332935      2.368596      3.627224   \n",
       "8736          3      3.619192      4.165946      2.523772      4.688571   \n",
       "8737          2      4.006026      4.440130      2.668948      3.710325   \n",
       "8738          1      4.165736      5.263877      3.030688      3.739806   \n",
       "8739          0      3.784099      4.423717      2.719272      3.900398   \n",
       "\n",
       "      wha_away_avg  whh_away_avg  \n",
       "8735      4.040413      2.499936  \n",
       "8736      6.252343      3.566526  \n",
       "8737      4.158901      2.543176  \n",
       "8738      4.391757      2.762035  \n",
       "8739      4.026331      2.570469  \n",
       "\n",
       "[5 rows x 23 columns]"
      ]
     },
     "execution_count": 74,
     "metadata": {},
     "output_type": "execute_result"
    }
   ],
   "source": [
    "X.tail(5)"
   ]
  },
  {
   "cell_type": "code",
   "execution_count": 64,
   "id": "fd083cda",
   "metadata": {},
   "outputs": [],
   "source": [
    "X_train, X_val, y_train, y_val = train_test_split(X, y, test_size=0.2, stratify=y, random_state=42)"
   ]
  },
  {
   "cell_type": "code",
   "execution_count": null,
   "id": "4f54179b",
   "metadata": {},
   "outputs": [],
   "source": [
    "# Check which columns are categorical (teams)\n",
    "categorical_cols = df_ml.select_dtypes(include=['object']).columns.tolist()\n",
    "categorical_cols = [col for col in categorical_cols if col in feature_cols]"
   ]
  },
  {
   "cell_type": "code",
   "execution_count": 75,
   "id": "fff6d146",
   "metadata": {},
   "outputs": [
    {
     "data": {
      "text/plain": [
       "['hometeam', 'awayteam']"
      ]
     },
     "execution_count": 75,
     "metadata": {},
     "output_type": "execute_result"
    }
   ],
   "source": [
    "categorical_cols"
   ]
  },
  {
   "cell_type": "markdown",
   "id": "cfba2516",
   "metadata": {},
   "source": [
    "### CatBoost model"
   ]
  },
  {
   "cell_type": "code",
   "execution_count": null,
   "id": "79240306",
   "metadata": {},
   "outputs": [],
   "source": [
    "# Update your pools with categorical features\n",
    "train_pool = Pool(X_train, label=y_train, cat_features=categorical_cols)\n",
    "val_pool = Pool(X_val, label=y_val, cat_features=categorical_cols)"
   ]
  },
  {
   "cell_type": "code",
   "execution_count": 66,
   "id": "437bd15e",
   "metadata": {},
   "outputs": [],
   "source": [
    "space = {\n",
    "    'learning_rate': hp.uniform('learning_rate', 0.01, 0.3),\n",
    "    'depth': hp.quniform('depth', 3, 10, 1),\n",
    "    'l2_leaf_reg': hp.uniform('l2_leaf_reg', 1, 10),\n",
    "    'iterations': 200,\n",
    "    'loss_function': 'MultiClass',\n",
    "    'verbose': 0,\n",
    "    'cat_features': categorical_cols,  # Add this line\n",
    "}"
   ]
  },
  {
   "cell_type": "code",
   "execution_count": null,
   "id": "0dcf1249",
   "metadata": {},
   "outputs": [],
   "source": [
    "def objective(params):\n",
    "    params['depth'] = int(params['depth'])  # convert depth to int\n",
    "\n",
    "    with mlflow.start_run(\n",
    "\t\t\tnested=True, \n",
    "\t\t\ttags={\"model\": \"catboost\", \"type\": \"hyperopt\"},\n",
    "            description=\"Hyperopt optimization for CatBoost model\"\n",
    "        ):\n",
    "        model = CatBoostClassifier(**params)\n",
    "        model.fit(train_pool, eval_set=val_pool, early_stopping_rounds=30)\n",
    "\n",
    "        y_pred = model.predict(X_val)\n",
    "        y_pred_proba = model.predict_proba(X_val)\n",
    "        \n",
    "        # Calculate multiple metrics\n",
    "        f1_macro = f1_score(y_val, y_pred, average='macro')\n",
    "        f1_weighted = f1_score(y_val, y_pred, average='weighted')\n",
    "        accuracy = accuracy_score(y_val, y_pred)\n",
    "        precision_macro = precision_score(y_val, y_pred, average='macro')\n",
    "        recall_macro = recall_score(y_val, y_pred, average='macro')\n",
    "        \n",
    "        # ROC AUC for multiclass\n",
    "        roc_auc = roc_auc_score(y_val, y_pred_proba, multi_class='ovr', average='macro')\n",
    "\n",
    "        # Log all metrics\n",
    "        mlflow.log_params(params)\n",
    "        mlflow.log_metric(\"val_f1_macro\", f1_macro)\n",
    "        mlflow.log_metric(\"val_f1_weighted\", f1_weighted)\n",
    "        mlflow.log_metric(\"val_accuracy\", accuracy)\n",
    "        mlflow.log_metric(\"val_precision_macro\", precision_macro)\n",
    "        mlflow.log_metric(\"val_recall_macro\", recall_macro)\n",
    "        mlflow.log_metric(\"val_roc_auc\", roc_auc)\n",
    "        \n",
    "        # Log classification report as artifact\n",
    "        report = classification_report(y_val, y_pred, output_dict=True)\n",
    "        mlflow.log_dict(report, \"classification_report.json\")\n",
    "        \n",
    "        mlflow.catboost.log_model(model, \"model\")\n",
    "\n",
    "        return {'loss': -f1_macro, 'status': STATUS_OK}"
   ]
  },
  {
   "cell_type": "code",
   "execution_count": null,
   "id": "86746861",
   "metadata": {},
   "outputs": [],
   "source": [
    "with mlflow.start_run(run_name=\"catboost_hyperopt\"):\n",
    "    best = fmin(\n",
    "        fn=objective,\n",
    "        space=space,\n",
    "        algo=tpe.suggest,\n",
    "        max_evals=30,\n",
    "        trials=Trials(),\n",
    "        rstate=np.random.default_rng(42)\n",
    "    )\n",
    "    \n",
    "    print(f\"✅ Best parameters: {best}\")\n",
    "    mlflow.log_params(best)"
   ]
  },
  {
   "cell_type": "code",
   "execution_count": 79,
   "id": "0e1edac5",
   "metadata": {},
   "outputs": [],
   "source": [
    "best_params = {\n",
    "\t**best,\n",
    "\t'iterations': 200,\n",
    "\t'loss_function': 'MultiClass',\n",
    "\t'verbose': 0,\n",
    "\t'cat_features': categorical_cols, \n",
    "}"
   ]
  },
  {
   "cell_type": "code",
   "execution_count": 139,
   "id": "c882e25e",
   "metadata": {},
   "outputs": [
    {
     "name": "stderr",
     "output_type": "stream",
     "text": [
      "2025/08/04 22:49:10 WARNING mlflow.models.model: `artifact_path` is deprecated. Please use `name` instead.\n",
      "\u001b[31m2025/08/04 22:49:25 WARNING mlflow.models.model: Model logged without a signature and input example. Please set `input_example` parameter when logging the model to auto infer the model signature.\u001b[0m\n"
     ]
    },
    {
     "name": "stdout",
     "output_type": "stream",
     "text": [
      "🏃 View run catboost_final_model at: http://localhost:5000/#/experiments/3/runs/b0829d3f334c4db597b2c28ba01cbb96\n",
      "🧪 View experiment at: http://localhost:5000/#/experiments/3\n"
     ]
    }
   ],
   "source": [
    "best_params['depth'] = int(best_params['depth'])  # convert depth to int\n",
    "\n",
    "with mlflow.start_run(\n",
    "\t\trun_name=\"catboost_final_model\",\n",
    "\t\ttags={\"model\": \"catboost\", \"type\": \"hyperopt\"},\n",
    "\t\tdescription=\"Hyperopt optimization for CatBoost model\"\n",
    "\t):\n",
    "\tmodel = CatBoostClassifier(**best_params)\n",
    "\tmodel.fit(train_pool, eval_set=val_pool, early_stopping_rounds=30)\n",
    "\n",
    "\ty_pred = model.predict(X_val)\n",
    "\ty_pred_proba = model.predict_proba(X_val)\n",
    "\t\n",
    "\t# Calculate multiple metrics\n",
    "\tf1_macro = f1_score(y_val, y_pred, average='macro')\n",
    "\tf1_weighted = f1_score(y_val, y_pred, average='weighted')\n",
    "\taccuracy = accuracy_score(y_val, y_pred)\n",
    "\tprecision_macro = precision_score(y_val, y_pred, average='macro')\n",
    "\trecall_macro = recall_score(y_val, y_pred, average='macro')\n",
    "\t\n",
    "\t# ROC AUC for multiclass\n",
    "\troc_auc = roc_auc_score(y_val, y_pred_proba, multi_class='ovr', average='macro')\n",
    "\n",
    "\t# Log all metrics\n",
    "\tmlflow.log_params(best_params)\n",
    "\tmlflow.log_metric(\"f1_macro\", f1_macro)\n",
    "\tmlflow.log_metric(\"f1_weighted\", f1_weighted)\n",
    "\tmlflow.log_metric(\"accuracy\", accuracy)\n",
    "\tmlflow.log_metric(\"precision_macro\", precision_macro)\n",
    "\tmlflow.log_metric(\"recall_macro\", recall_macro)\n",
    "\tmlflow.log_metric(\"roc_auc\", roc_auc)\n",
    "\n",
    "\t# Log classification report as artifact\n",
    "\treport = classification_report(y_val, y_pred, output_dict=True)\n",
    "\tmlflow.log_dict(report, \"classification_report.json\")\n",
    "\t\n",
    "\tmlflow.catboost.log_model(model, \"model\")"
   ]
  },
  {
   "cell_type": "code",
   "execution_count": 86,
   "id": "bcd03f16",
   "metadata": {},
   "outputs": [
    {
     "data": {
      "application/vnd.jupyter.widget-view+json": {
       "model_id": "2da68cc463a14d37b1af2ae4ee88e4ef",
       "version_major": 2,
       "version_minor": 0
      },
      "text/plain": [
       "Downloading artifacts:   0%|          | 0/5 [00:01<?, ?it/s]"
      ]
     },
     "metadata": {},
     "output_type": "display_data"
    }
   ],
   "source": [
    "model = mlflow.catboost.load_model(\"s3://epl-predictions-mlflow-artifacts-478340992394/3/models/m-27ea07b6f4d2411ebac8c6e96211f79f/artifacts\")"
   ]
  },
  {
   "cell_type": "code",
   "execution_count": 90,
   "id": "0c605c2c",
   "metadata": {},
   "outputs": [
    {
     "data": {
      "text/html": [
       "<div>\n",
       "<style scoped>\n",
       "    .dataframe tbody tr th:only-of-type {\n",
       "        vertical-align: middle;\n",
       "    }\n",
       "\n",
       "    .dataframe tbody tr th {\n",
       "        vertical-align: top;\n",
       "    }\n",
       "\n",
       "    .dataframe thead th {\n",
       "        text-align: right;\n",
       "    }\n",
       "</style>\n",
       "<table border=\"1\" class=\"dataframe\">\n",
       "  <thead>\n",
       "    <tr style=\"text-align: right;\">\n",
       "      <th></th>\n",
       "      <th>0</th>\n",
       "    </tr>\n",
       "    <tr>\n",
       "      <th>target_result</th>\n",
       "      <th></th>\n",
       "    </tr>\n",
       "  </thead>\n",
       "  <tbody>\n",
       "    <tr>\n",
       "      <th>A</th>\n",
       "      <td>H</td>\n",
       "    </tr>\n",
       "    <tr>\n",
       "      <th>H</th>\n",
       "      <td>A</td>\n",
       "    </tr>\n",
       "    <tr>\n",
       "      <th>A</th>\n",
       "      <td>A</td>\n",
       "    </tr>\n",
       "    <tr>\n",
       "      <th>H</th>\n",
       "      <td>H</td>\n",
       "    </tr>\n",
       "    <tr>\n",
       "      <th>D</th>\n",
       "      <td>H</td>\n",
       "    </tr>\n",
       "    <tr>\n",
       "      <th>...</th>\n",
       "      <td>...</td>\n",
       "    </tr>\n",
       "    <tr>\n",
       "      <th>H</th>\n",
       "      <td>H</td>\n",
       "    </tr>\n",
       "    <tr>\n",
       "      <th>A</th>\n",
       "      <td>A</td>\n",
       "    </tr>\n",
       "    <tr>\n",
       "      <th>D</th>\n",
       "      <td>A</td>\n",
       "    </tr>\n",
       "    <tr>\n",
       "      <th>H</th>\n",
       "      <td>H</td>\n",
       "    </tr>\n",
       "    <tr>\n",
       "      <th>H</th>\n",
       "      <td>H</td>\n",
       "    </tr>\n",
       "  </tbody>\n",
       "</table>\n",
       "<p>1748 rows × 1 columns</p>\n",
       "</div>"
      ],
      "text/plain": [
       "               0\n",
       "target_result   \n",
       "A              H\n",
       "H              A\n",
       "A              A\n",
       "H              H\n",
       "D              H\n",
       "...           ..\n",
       "H              H\n",
       "A              A\n",
       "D              A\n",
       "H              H\n",
       "H              H\n",
       "\n",
       "[1748 rows x 1 columns]"
      ]
     },
     "execution_count": 90,
     "metadata": {},
     "output_type": "execute_result"
    }
   ],
   "source": [
    "pd.DataFrame(model.predict(X_val), y_val)"
   ]
  },
  {
   "cell_type": "markdown",
   "id": "76fac9cd",
   "metadata": {},
   "source": [
    "### XGBoost"
   ]
  },
  {
   "cell_type": "code",
   "execution_count": 117,
   "id": "31449346",
   "metadata": {},
   "outputs": [],
   "source": [
    "# Encode categorical features for XGBoost\n",
    "label_encoders = {}\n",
    "X_train_encoded = X_train.copy()\n",
    "X_val_encoded = X_val.copy()\n",
    "\n",
    "for col in categorical_cols:\n",
    "    le = LabelEncoder()\n",
    "    X_train_encoded[col] = le.fit_transform(X_train[col].astype(str))\n",
    "    X_val_encoded[col] = le.transform(X_val[col].astype(str))\n",
    "    label_encoders[col] = le"
   ]
  },
  {
   "cell_type": "code",
   "execution_count": 118,
   "id": "2fd54d26",
   "metadata": {},
   "outputs": [],
   "source": [
    "# Encode target variable\n",
    "target_encoder = LabelEncoder()\n",
    "y_train_encoded = target_encoder.fit_transform(y_train)\n",
    "y_val_encoded = target_encoder.transform(y_val)"
   ]
  },
  {
   "cell_type": "code",
   "execution_count": 119,
   "id": "ac5ff3af",
   "metadata": {},
   "outputs": [],
   "source": [
    "xgb_space = {\n",
    "    'max_depth': hp.quniform('max_depth', 3, 10, 1),\n",
    "    'learning_rate': hp.uniform('learning_rate', 0.01, 0.3),\n",
    "    'n_estimators': hp.quniform('n_estimators', 100, 500, 50),\n",
    "    'subsample': hp.uniform('subsample', 0.6, 1.0),\n",
    "    'colsample_bytree': hp.uniform('colsample_bytree', 0.6, 1.0),\n",
    "    'reg_alpha': hp.uniform('reg_alpha', 0, 10),\n",
    "    'reg_lambda': hp.uniform('reg_lambda', 1, 10),\n",
    "    'random_state': 42,\n",
    "    'objective': 'multi:softprob',\n",
    "    'num_class': 3,\n",
    "    'eval_metric': 'mlogloss'\n",
    "}"
   ]
  },
  {
   "cell_type": "code",
   "execution_count": 120,
   "id": "53e8c48e",
   "metadata": {},
   "outputs": [],
   "source": [
    "def xgb_objective(params):\n",
    "    # Convert to int\n",
    "    params['max_depth'] = int(params['max_depth'])\n",
    "    params['n_estimators'] = int(params['n_estimators'])\n",
    "    \n",
    "    with mlflow.start_run(\n",
    "        nested=True, \n",
    "        tags={\"model\": \"xgboost\", \"type\": \"hyperopt\"},\n",
    "        description=\"Hyperopt optimization for XGBoost model\"\n",
    "    ):\n",
    "        # Create XGBoost model\n",
    "        model = XGBClassifier(**params)\n",
    "        \n",
    "        # Fit model with encoded targets\n",
    "        model.fit(\n",
    "            X_train_encoded, y_train_encoded,  # Use encoded target\n",
    "            eval_set=[(X_val_encoded, y_val_encoded)],  # Use encoded target\n",
    "            verbose=False\n",
    "        )\n",
    "        \n",
    "        # Predictions\n",
    "        y_pred = model.predict(X_val_encoded)\n",
    "        y_pred_proba = model.predict_proba(X_val_encoded)\n",
    "        \n",
    "        # Calculate metrics (convert back to original labels for metrics)\n",
    "        y_pred_original = target_encoder.inverse_transform(y_pred)\n",
    "        \n",
    "        f1_macro = f1_score(y_val, y_pred_original, average='macro')\n",
    "        f1_weighted = f1_score(y_val, y_pred_original, average='weighted')\n",
    "        accuracy = accuracy_score(y_val, y_pred_original)\n",
    "        precision_macro = precision_score(y_val, y_pred_original, average='macro')\n",
    "        recall_macro = recall_score(y_val, y_pred_original, average='macro')\n",
    "        roc_auc = roc_auc_score(y_val_encoded, y_pred_proba, multi_class='ovr', average='macro')\n",
    "        \n",
    "        # Log metrics\n",
    "        mlflow.log_params(params)\n",
    "        mlflow.log_metric(\"val_f1_macro\", f1_macro)\n",
    "        mlflow.log_metric(\"val_f1_weighted\", f1_weighted)\n",
    "        mlflow.log_metric(\"val_accuracy\", accuracy)\n",
    "        mlflow.log_metric(\"val_precision_macro\", precision_macro)\n",
    "        mlflow.log_metric(\"val_recall_macro\", recall_macro)\n",
    "        mlflow.log_metric(\"val_roc_auc\", roc_auc)\n",
    "        \n",
    "        # Log classification report\n",
    "        report = classification_report(y_val, y_pred_original, output_dict=True)\n",
    "        mlflow.log_dict(report, \"classification_report.json\")\n",
    "        \n",
    "        # Log model and encoders\n",
    "        mlflow.xgboost.log_model(model, \"model\")\n",
    "        mlflow.log_dict({\n",
    "            \"target_encoder_classes\": target_encoder.classes_.tolist(),\n",
    "            **{k: v.classes_.tolist() for k, v in label_encoders.items()}\n",
    "        }, \"encoders.json\")\n",
    "        \n",
    "        return {'loss': -f1_macro, 'status': STATUS_OK}"
   ]
  },
  {
   "cell_type": "code",
   "execution_count": 121,
   "id": "276e4dbd",
   "metadata": {},
   "outputs": [
    {
     "name": "stdout",
     "output_type": "stream",
     "text": [
      "  0%|          | 0/10 [00:00<?, ?trial/s, best loss=?]"
     ]
    },
    {
     "name": "stderr",
     "output_type": "stream",
     "text": [
      "2025/08/04 21:51:52 WARNING mlflow.models.model: `artifact_path` is deprecated. Please use `name` instead.\n",
      "\n",
      "/Users/Kamal/.local/share/virtualenvs/EPL-predictions-nkQCYyuZ/lib/python3.11/site-packages/xgboost/sklearn.py:1028: UserWarning: [21:52:00] WARNING: /Users/runner/work/xgboost/xgboost/src/c_api/c_api.cc:1427: Saving model in the UBJSON format as default.  You can use file extension: `json`, `ubj` or `deprecated` to choose between formats.\n",
      "  self.get_booster().save_model(fname)\n",
      "\n",
      "\u001b[31m2025/08/04 21:52:06 WARNING mlflow.models.model: Model logged without a signature and input example. Please set `input_example` parameter when logging the model to auto infer the model signature.\u001b[0m\n",
      "\n"
     ]
    },
    {
     "name": "stdout",
     "output_type": "stream",
     "text": [
      "🏃 View run enthused-finch-289 at: http://localhost:5000/#/experiments/3/runs/64a645e82b474daf89ec39c849838cbc\n",
      "\n",
      "🧪 View experiment at: http://localhost:5000/#/experiments/3\n",
      "\n",
      " 10%|█         | 1/10 [01:29<13:23, 89.30s/trial, best loss: -0.4099215575418566]"
     ]
    },
    {
     "name": "stderr",
     "output_type": "stream",
     "text": [
      "2025/08/04 21:53:17 WARNING mlflow.models.model: `artifact_path` is deprecated. Please use `name` instead.\n",
      "\n",
      "/Users/Kamal/.local/share/virtualenvs/EPL-predictions-nkQCYyuZ/lib/python3.11/site-packages/xgboost/sklearn.py:1028: UserWarning: [21:53:25] WARNING: /Users/runner/work/xgboost/xgboost/src/c_api/c_api.cc:1427: Saving model in the UBJSON format as default.  You can use file extension: `json`, `ubj` or `deprecated` to choose between formats.\n",
      "  self.get_booster().save_model(fname)\n",
      "\n",
      "\u001b[31m2025/08/04 21:53:29 WARNING mlflow.models.model: Model logged without a signature and input example. Please set `input_example` parameter when logging the model to auto infer the model signature.\u001b[0m\n",
      "\n"
     ]
    },
    {
     "name": "stdout",
     "output_type": "stream",
     "text": [
      "🏃 View run masked-zebra-697 at: http://localhost:5000/#/experiments/3/runs/cf46153d155f47979c090829755d9d29\n",
      "\n",
      "🧪 View experiment at: http://localhost:5000/#/experiments/3                     \n",
      "\n",
      " 20%|██        | 2/10 [02:16<08:38, 64.78s/trial, best loss: -0.4099215575418566]"
     ]
    },
    {
     "name": "stderr",
     "output_type": "stream",
     "text": [
      "2025/08/04 21:54:03 WARNING mlflow.models.model: `artifact_path` is deprecated. Please use `name` instead.\n",
      "\n",
      "/Users/Kamal/.local/share/virtualenvs/EPL-predictions-nkQCYyuZ/lib/python3.11/site-packages/xgboost/sklearn.py:1028: UserWarning: [21:54:10] WARNING: /Users/runner/work/xgboost/xgboost/src/c_api/c_api.cc:1427: Saving model in the UBJSON format as default.  You can use file extension: `json`, `ubj` or `deprecated` to choose between formats.\n",
      "  self.get_booster().save_model(fname)\n",
      "\n",
      "\u001b[31m2025/08/04 21:54:14 WARNING mlflow.models.model: Model logged without a signature and input example. Please set `input_example` parameter when logging the model to auto infer the model signature.\u001b[0m\n",
      "\n"
     ]
    },
    {
     "name": "stdout",
     "output_type": "stream",
     "text": [
      "🏃 View run traveling-goat-834 at: http://localhost:5000/#/experiments/3/runs/cbb202ce91124f6a8583ea1b8a584e74\n",
      "\n",
      "🧪 View experiment at: http://localhost:5000/#/experiments/3                     \n",
      "\n",
      " 30%|███       | 3/10 [03:07<06:48, 58.37s/trial, best loss: -0.4184982492240856]"
     ]
    },
    {
     "name": "stderr",
     "output_type": "stream",
     "text": [
      "2025/08/04 21:54:53 WARNING mlflow.models.model: `artifact_path` is deprecated. Please use `name` instead.\n",
      "\n",
      "/Users/Kamal/.local/share/virtualenvs/EPL-predictions-nkQCYyuZ/lib/python3.11/site-packages/xgboost/sklearn.py:1028: UserWarning: [21:55:01] WARNING: /Users/runner/work/xgboost/xgboost/src/c_api/c_api.cc:1427: Saving model in the UBJSON format as default.  You can use file extension: `json`, `ubj` or `deprecated` to choose between formats.\n",
      "  self.get_booster().save_model(fname)\n",
      "\n",
      "\u001b[31m2025/08/04 21:55:05 WARNING mlflow.models.model: Model logged without a signature and input example. Please set `input_example` parameter when logging the model to auto infer the model signature.\u001b[0m\n",
      "\n"
     ]
    },
    {
     "name": "stdout",
     "output_type": "stream",
     "text": [
      "🏃 View run victorious-rat-262 at: http://localhost:5000/#/experiments/3/runs/8caa91befd4d43d2b7e945d84ae6d08c\n",
      "\n",
      "🧪 View experiment at: http://localhost:5000/#/experiments/3                     \n",
      "\n",
      " 40%|████      | 4/10 [03:57<05:29, 54.85s/trial, best loss: -0.4227484238374167]"
     ]
    },
    {
     "name": "stderr",
     "output_type": "stream",
     "text": [
      "2025/08/04 21:55:43 WARNING mlflow.models.model: `artifact_path` is deprecated. Please use `name` instead.\n",
      "\n",
      "/Users/Kamal/.local/share/virtualenvs/EPL-predictions-nkQCYyuZ/lib/python3.11/site-packages/xgboost/sklearn.py:1028: UserWarning: [21:55:50] WARNING: /Users/runner/work/xgboost/xgboost/src/c_api/c_api.cc:1427: Saving model in the UBJSON format as default.  You can use file extension: `json`, `ubj` or `deprecated` to choose between formats.\n",
      "  self.get_booster().save_model(fname)\n",
      "\n",
      "\u001b[31m2025/08/04 21:55:54 WARNING mlflow.models.model: Model logged without a signature and input example. Please set `input_example` parameter when logging the model to auto infer the model signature.\u001b[0m\n",
      "\n"
     ]
    },
    {
     "name": "stdout",
     "output_type": "stream",
     "text": [
      "🏃 View run incongruous-elk-228 at: http://localhost:5000/#/experiments/3/runs/9d99cd54474d43e680a76e5cb8b0acf1\n",
      "\n",
      "🧪 View experiment at: http://localhost:5000/#/experiments/3                     \n",
      "\n",
      " 50%|█████     | 5/10 [04:53<04:37, 55.42s/trial, best loss: -0.4227484238374167]"
     ]
    },
    {
     "name": "stderr",
     "output_type": "stream",
     "text": [
      "2025/08/04 21:56:43 WARNING mlflow.models.model: `artifact_path` is deprecated. Please use `name` instead.\n",
      "\n",
      "/Users/Kamal/.local/share/virtualenvs/EPL-predictions-nkQCYyuZ/lib/python3.11/site-packages/xgboost/sklearn.py:1028: UserWarning: [21:56:50] WARNING: /Users/runner/work/xgboost/xgboost/src/c_api/c_api.cc:1427: Saving model in the UBJSON format as default.  You can use file extension: `json`, `ubj` or `deprecated` to choose between formats.\n",
      "  self.get_booster().save_model(fname)\n",
      "\n",
      "\u001b[31m2025/08/04 21:56:54 WARNING mlflow.models.model: Model logged without a signature and input example. Please set `input_example` parameter when logging the model to auto infer the model signature.\u001b[0m\n",
      "\n"
     ]
    },
    {
     "name": "stdout",
     "output_type": "stream",
     "text": [
      "🏃 View run serious-robin-334 at: http://localhost:5000/#/experiments/3/runs/7ffeee13593045cd863ac9bc7f959b62\n",
      "\n",
      "🧪 View experiment at: http://localhost:5000/#/experiments/3                     \n",
      "\n",
      " 60%|██████    | 6/10 [06:29<04:37, 69.31s/trial, best loss: -0.42945455040672015]"
     ]
    },
    {
     "name": "stderr",
     "output_type": "stream",
     "text": [
      "2025/08/04 21:58:27 WARNING mlflow.models.model: `artifact_path` is deprecated. Please use `name` instead.\n",
      "\n",
      "/Users/Kamal/.local/share/virtualenvs/EPL-predictions-nkQCYyuZ/lib/python3.11/site-packages/xgboost/sklearn.py:1028: UserWarning: [21:58:34] WARNING: /Users/runner/work/xgboost/xgboost/src/c_api/c_api.cc:1427: Saving model in the UBJSON format as default.  You can use file extension: `json`, `ubj` or `deprecated` to choose between formats.\n",
      "  self.get_booster().save_model(fname)\n",
      "\n",
      "\u001b[31m2025/08/04 21:58:39 WARNING mlflow.models.model: Model logged without a signature and input example. Please set `input_example` parameter when logging the model to auto infer the model signature.\u001b[0m\n",
      "\n"
     ]
    },
    {
     "name": "stdout",
     "output_type": "stream",
     "text": [
      "🏃 View run trusting-stag-421 at: http://localhost:5000/#/experiments/3/runs/42d8730d71ec46c184bf1f18b058b874\n",
      "\n",
      "🧪 View experiment at: http://localhost:5000/#/experiments/3                      \n",
      "\n",
      " 70%|███████   | 7/10 [08:15<04:03, 81.15s/trial, best loss: -0.42945455040672015]"
     ]
    },
    {
     "name": "stderr",
     "output_type": "stream",
     "text": [
      "2025/08/04 22:00:02 WARNING mlflow.models.model: `artifact_path` is deprecated. Please use `name` instead.\n",
      "\n",
      "/Users/Kamal/.local/share/virtualenvs/EPL-predictions-nkQCYyuZ/lib/python3.11/site-packages/xgboost/sklearn.py:1028: UserWarning: [22:00:10] WARNING: /Users/runner/work/xgboost/xgboost/src/c_api/c_api.cc:1427: Saving model in the UBJSON format as default.  You can use file extension: `json`, `ubj` or `deprecated` to choose between formats.\n",
      "  self.get_booster().save_model(fname)\n",
      "\n",
      "\u001b[31m2025/08/04 22:00:16 WARNING mlflow.models.model: Model logged without a signature and input example. Please set `input_example` parameter when logging the model to auto infer the model signature.\u001b[0m\n",
      "\n"
     ]
    },
    {
     "name": "stdout",
     "output_type": "stream",
     "text": [
      "🏃 View run clean-grouse-988 at: http://localhost:5000/#/experiments/3/runs/842764a65a0f4f7190ae7f0eab61a3a7\n",
      "\n",
      "🧪 View experiment at: http://localhost:5000/#/experiments/3                      \n",
      "\n",
      " 80%|████████  | 8/10 [09:01<02:19, 69.90s/trial, best loss: -0.42945455040672015]"
     ]
    },
    {
     "name": "stderr",
     "output_type": "stream",
     "text": [
      "2025/08/04 22:00:52 WARNING mlflow.models.model: `artifact_path` is deprecated. Please use `name` instead.\n",
      "\n",
      "/Users/Kamal/.local/share/virtualenvs/EPL-predictions-nkQCYyuZ/lib/python3.11/site-packages/xgboost/sklearn.py:1028: UserWarning: [22:01:01] WARNING: /Users/runner/work/xgboost/xgboost/src/c_api/c_api.cc:1427: Saving model in the UBJSON format as default.  You can use file extension: `json`, `ubj` or `deprecated` to choose between formats.\n",
      "  self.get_booster().save_model(fname)\n",
      "\n",
      "\u001b[31m2025/08/04 22:01:07 WARNING mlflow.models.model: Model logged without a signature and input example. Please set `input_example` parameter when logging the model to auto infer the model signature.\u001b[0m\n",
      "\n"
     ]
    },
    {
     "name": "stdout",
     "output_type": "stream",
     "text": [
      "🏃 View run defiant-fish-755 at: http://localhost:5000/#/experiments/3/runs/eae10a155c894636a5e08240c78f4425\n",
      "\n",
      "🧪 View experiment at: http://localhost:5000/#/experiments/3                      \n",
      "\n",
      " 90%|█████████ | 9/10 [11:22<01:32, 92.37s/trial, best loss: -0.42945455040672015]"
     ]
    },
    {
     "name": "stderr",
     "output_type": "stream",
     "text": [
      "2025/08/04 22:03:14 WARNING mlflow.models.model: `artifact_path` is deprecated. Please use `name` instead.\n",
      "\n",
      "/Users/Kamal/.local/share/virtualenvs/EPL-predictions-nkQCYyuZ/lib/python3.11/site-packages/xgboost/sklearn.py:1028: UserWarning: [22:03:23] WARNING: /Users/runner/work/xgboost/xgboost/src/c_api/c_api.cc:1427: Saving model in the UBJSON format as default.  You can use file extension: `json`, `ubj` or `deprecated` to choose between formats.\n",
      "  self.get_booster().save_model(fname)\n",
      "\n",
      "\u001b[31m2025/08/04 22:03:28 WARNING mlflow.models.model: Model logged without a signature and input example. Please set `input_example` parameter when logging the model to auto infer the model signature.\u001b[0m\n",
      "\n"
     ]
    },
    {
     "name": "stdout",
     "output_type": "stream",
     "text": [
      "🏃 View run bedecked-conch-945 at: http://localhost:5000/#/experiments/3/runs/d227f18ac9174f90a526add6fb56ea9b\n",
      "\n",
      "🧪 View experiment at: http://localhost:5000/#/experiments/3                      \n",
      "\n",
      "100%|██████████| 10/10 [12:35<00:00, 75.56s/trial, best loss: -0.42945455040672015]\n",
      "✅ Best XGBoost parameters: {'colsample_bytree': np.float64(0.7845735941946608), 'learning_rate': np.float64(0.17329448321462293), 'max_depth': np.float64(9.0), 'n_estimators': np.float64(400.0), 'reg_alpha': np.float64(4.4194339835245335), 'reg_lambda': np.float64(2.4492169775573576), 'subsample': np.float64(0.9018909441059156)}\n",
      "🏃 View run xgboost_hyperopt at: http://localhost:5000/#/experiments/3/runs/40e867245b5d40d69f352662f969ef07\n",
      "🧪 View experiment at: http://localhost:5000/#/experiments/3\n"
     ]
    }
   ],
   "source": [
    "with mlflow.start_run(run_name=\"xgboost_hyperopt\"):\n",
    "    xgb_best = fmin(\n",
    "        fn=xgb_objective,\n",
    "        space=xgb_space,\n",
    "        algo=tpe.suggest,\n",
    "        max_evals=10,\n",
    "        trials=Trials(),\n",
    "        rstate=np.random.default_rng(42)\n",
    "    )\n",
    "    \n",
    "    print(f\"✅ Best XGBoost parameters: {xgb_best}\")\n",
    "    mlflow.log_params(xgb_best)"
   ]
  },
  {
   "cell_type": "code",
   "execution_count": 122,
   "id": "698a3626",
   "metadata": {},
   "outputs": [
    {
     "name": "stderr",
     "output_type": "stream",
     "text": [
      "2025/08/04 22:11:00 WARNING mlflow.models.model: `artifact_path` is deprecated. Please use `name` instead.\n"
     ]
    },
    {
     "name": "stdout",
     "output_type": "stream",
     "text": [
      "🎯 Final XGBoost Model Performance:\n",
      "   accuracy: 0.4994\n",
      "   f1_macro: 0.4295\n",
      "   f1_weighted: 0.4748\n",
      "   precision_macro: 0.4367\n",
      "   recall_macro: 0.4394\n",
      "   roc_auc_macro: 0.6285\n",
      "\n",
      "📊 XGBoost Classification Report:\n",
      "              precision    recall  f1-score   support\n",
      "\n",
      "           A       0.47      0.45      0.46       520\n",
      "           D       0.27      0.15      0.20       426\n",
      "           H       0.57      0.72      0.63       802\n",
      "\n",
      "    accuracy                           0.50      1748\n",
      "   macro avg       0.44      0.44      0.43      1748\n",
      "weighted avg       0.47      0.50      0.47      1748\n",
      "\n"
     ]
    },
    {
     "name": "stderr",
     "output_type": "stream",
     "text": [
      "/Users/Kamal/.local/share/virtualenvs/EPL-predictions-nkQCYyuZ/lib/python3.11/site-packages/xgboost/sklearn.py:1028: UserWarning: [22:11:08] WARNING: /Users/runner/work/xgboost/xgboost/src/c_api/c_api.cc:1427: Saving model in the UBJSON format as default.  You can use file extension: `json`, `ubj` or `deprecated` to choose between formats.\n",
      "  self.get_booster().save_model(fname)\n",
      "\u001b[31m2025/08/04 22:11:14 WARNING mlflow.models.model: Model logged without a signature and input example. Please set `input_example` parameter when logging the model to auto infer the model signature.\u001b[0m\n"
     ]
    },
    {
     "name": "stdout",
     "output_type": "stream",
     "text": [
      "🏃 View run xgboost_final_model at: http://localhost:5000/#/experiments/3/runs/7a754f16e6f5402e8274b08d41641f99\n",
      "🧪 View experiment at: http://localhost:5000/#/experiments/3\n"
     ]
    }
   ],
   "source": [
    "# Cell: Final XGBoost Model\n",
    "xgb_best_params = {\n",
    "    **xgb_best,\n",
    "    'random_state': 42,\n",
    "    'objective': 'multi:softprob',\n",
    "    'num_class': 3,\n",
    "    'eval_metric': 'mlogloss'\n",
    "}\n",
    "\n",
    "xgb_best_params['max_depth'] = int(xgb_best_params['max_depth'])\n",
    "xgb_best_params['n_estimators'] = int(xgb_best_params['n_estimators'])\n",
    "\n",
    "with mlflow.start_run(\n",
    "    run_name=\"xgboost_final_model\",\n",
    "    tags={\"model\": \"xgboost\", \"type\": \"final\"},\n",
    "    description=\"Final XGBoost model with best parameters\"\n",
    "):\n",
    "    # Train final model\n",
    "    xgb_model = XGBClassifier(**xgb_best_params)\n",
    "    xgb_model.fit(\n",
    "        X_train_encoded, y_train_encoded,  # Use encoded targets\n",
    "        eval_set=[(X_val_encoded, y_val_encoded)],\n",
    "        verbose=False\n",
    "    )\n",
    "    \n",
    "    # Final predictions\n",
    "    y_pred = xgb_model.predict(X_val_encoded)\n",
    "    y_pred_proba = xgb_model.predict_proba(X_val_encoded)\n",
    "    \n",
    "    # Convert predictions back to original labels\n",
    "    y_pred_original = target_encoder.inverse_transform(y_pred)\n",
    "    \n",
    "    # Calculate metrics\n",
    "    metrics = {\n",
    "        'accuracy': accuracy_score(y_val, y_pred_original),\n",
    "        'f1_macro': f1_score(y_val, y_pred_original, average='macro'),\n",
    "        'f1_weighted': f1_score(y_val, y_pred_original, average='weighted'),\n",
    "        'precision_macro': precision_score(y_val, y_pred_original, average='macro'),\n",
    "        'recall_macro': recall_score(y_val, y_pred_original, average='macro'),\n",
    "        'roc_auc_macro': roc_auc_score(y_val_encoded, y_pred_proba, multi_class='ovr', average='macro')\n",
    "    }\n",
    "    \n",
    "    # Log metrics\n",
    "    for metric_name, metric_value in metrics.items():\n",
    "        mlflow.log_metric(metric_name, metric_value)\n",
    "    \n",
    "    # Print results\n",
    "    print(\"🎯 Final XGBoost Model Performance:\")\n",
    "    for metric_name, metric_value in metrics.items():\n",
    "        print(f\"   {metric_name}: {metric_value:.4f}\")\n",
    "    \n",
    "    # Classification report\n",
    "    print(\"\\n📊 XGBoost Classification Report:\")\n",
    "    print(classification_report(y_val, y_pred_original))\n",
    "    \n",
    "    # Log model and encoders\n",
    "    mlflow.xgboost.log_model(xgb_model, \"model\")\n",
    "    mlflow.log_dict({\n",
    "        \"target_encoder_classes\": target_encoder.classes_.tolist(),\n",
    "        **{k: v.classes_.tolist() for k, v in label_encoders.items()}\n",
    "    }, \"encoders.json\")"
   ]
  },
  {
   "cell_type": "markdown",
   "id": "4a66d4e3",
   "metadata": {},
   "source": [
    "## Model Registry"
   ]
  },
  {
   "cell_type": "code",
   "execution_count": 147,
   "id": "8e230ff4",
   "metadata": {},
   "outputs": [],
   "source": [
    "retrieved_runs = client.search_runs(\n",
    "  experiment_ids=\"3\",\n",
    "  filter_string=\"tags.type = 'final'\",\n",
    "  run_view_type=ViewType.ACTIVE_ONLY,\n",
    "  order_by=[\"metrics.val_accuracy ASC\"]\n",
    ")"
   ]
  },
  {
   "cell_type": "code",
   "execution_count": null,
   "id": "086b27ac",
   "metadata": {},
   "outputs": [
    {
     "name": "stdout",
     "output_type": "stream",
     "text": [
      "catboost_final_model: 0.5183066361556065\n",
      "xgboost_final_model: 0.4994279176201373\n"
     ]
    }
   ],
   "source": [
    "for run in retrieved_runs:\n",
    "  print(f\"{run.info.run_name}: {run.data.metrics['accuracy']}\")"
   ]
  },
  {
   "cell_type": "code",
   "execution_count": 149,
   "id": "b0409db5",
   "metadata": {},
   "outputs": [],
   "source": [
    "REGISTERED_MODEL_NAME = \"epl-predictions-model\""
   ]
  },
  {
   "cell_type": "code",
   "execution_count": 150,
   "id": "361db407",
   "metadata": {},
   "outputs": [
    {
     "data": {
      "text/plain": [
       "<RegisteredModel: aliases={}, creation_timestamp=1754337335142, deployment_job_id='', deployment_job_state='DEPLOYMENT_JOB_CONNECTION_STATE_UNSPECIFIED', description='created at 2025-08-04', last_updated_timestamp=1754337335142, latest_versions=[], name='epl-predictions-model', tags={'creator': 'kamal', 'problem': 'epl-predictions'}>"
      ]
     },
     "execution_count": 150,
     "metadata": {},
     "output_type": "execute_result"
    }
   ],
   "source": [
    "from datetime import date\n",
    "\n",
    "client.create_registered_model(\n",
    "  name=REGISTERED_MODEL_NAME,\n",
    "  tags={\n",
    "    \"creator\": \"kamal\",\n",
    "    \"problem\": \"epl-predictions\",\n",
    "  },\n",
    "  description=f\"created at {date.today()}\"\n",
    ")"
   ]
  },
  {
   "cell_type": "code",
   "execution_count": null,
   "id": "0545505e",
   "metadata": {},
   "outputs": [
    {
     "name": "stderr",
     "output_type": "stream",
     "text": [
      "2025/08/04 22:57:03 INFO mlflow.store.model_registry.abstract_store: Waiting up to 300 seconds for model version to finish creation. Model name: epl-predictions-model, version 1\n",
      "2025/08/04 22:57:03 INFO mlflow.store.model_registry.abstract_store: Waiting up to 300 seconds for model version to finish creation. Model name: epl-predictions-model, version 2\n"
     ]
    }
   ],
   "source": [
    "for run in retrieved_runs:\n",
    "  client.create_model_version(\n",
    "    name = REGISTERED_MODEL_NAME,\n",
    "    source=f\"runs:/{run.info.run_id}/model\",\n",
    "    tags={\"name\": f\"{run.info.run_name}\"},\n",
    "    description=f\"Moved to registry on {date.today()}\"\n",
    "  )"
   ]
  },
  {
   "cell_type": "code",
   "execution_count": 152,
   "id": "a2fd11c7",
   "metadata": {},
   "outputs": [
    {
     "name": "stdout",
     "output_type": "stream",
     "text": [
      "version:2, URI: runs:/7a754f16e6f5402e8274b08d41641f99/model\n",
      "version:1, URI: runs:/b0829d3f334c4db597b2c28ba01cbb96/model\n"
     ]
    }
   ],
   "source": [
    "for version in client.search_model_versions(filter_string=f\"name = '{REGISTERED_MODEL_NAME}'\"):\n",
    "  print(f\"version:{version.version}, URI: {client.get_model_version_download_uri(name=REGISTERED_MODEL_NAME, version=version.version)}\")"
   ]
  },
  {
   "cell_type": "code",
   "execution_count": 153,
   "id": "a41b2d3c",
   "metadata": {},
   "outputs": [],
   "source": [
    "client.set_registered_model_alias(REGISTERED_MODEL_NAME, \"ready-prod\", \"1\")"
   ]
  },
  {
   "cell_type": "code",
   "execution_count": 155,
   "id": "545892f2",
   "metadata": {},
   "outputs": [],
   "source": [
    "client.set_registered_model_alias(REGISTERED_MODEL_NAME, \"need-fine-tunning\", \"2\")\n",
    "client.set_registered_model_alias(REGISTERED_MODEL_NAME, \"staging\", \"2\")"
   ]
  }
 ],
 "metadata": {
  "kernelspec": {
   "display_name": "EPL-predictions-nkQCYyuZ",
   "language": "python",
   "name": "python3"
  },
  "language_info": {
   "codemirror_mode": {
    "name": "ipython",
    "version": 3
   },
   "file_extension": ".py",
   "mimetype": "text/x-python",
   "name": "python",
   "nbconvert_exporter": "python",
   "pygments_lexer": "ipython3",
   "version": "3.11.7"
  }
 },
 "nbformat": 4,
 "nbformat_minor": 5
}
