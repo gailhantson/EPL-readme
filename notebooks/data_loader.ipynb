{
 "cells": [
  {
   "cell_type": "markdown",
   "id": "893369e9",
   "metadata": {},
   "source": [
    "# Loading data experiments"
   ]
  },
  {
   "cell_type": "markdown",
   "id": "65e269a0",
   "metadata": {},
   "source": [
    "## Loading data from football-data.co.uk "
   ]
  },
  {
   "cell_type": "code",
   "execution_count": 1,
   "id": "ba65c9d7",
   "metadata": {},
   "outputs": [],
   "source": [
    "import pandas as pd\n",
    "import requests\n",
    "\n",
    "url = f\"https://www.football-data.co.uk/mmz4281/2425/E0.csv\"\n",
    "response = requests.get(url)\n",
    "response.raise_for_status()"
   ]
  },
  {
   "cell_type": "code",
   "execution_count": 2,
   "id": "9a38113f",
   "metadata": {},
   "outputs": [],
   "source": [
    "from io import BytesIO\n",
    "\n",
    "df = pd.read_csv(BytesIO(response.content))"
   ]
  },
  {
   "cell_type": "code",
   "execution_count": 3,
   "id": "bdaad3ca",
   "metadata": {},
   "outputs": [
    {
     "data": {
      "text/html": [
       "<div>\n",
       "<style scoped>\n",
       "    .dataframe tbody tr th:only-of-type {\n",
       "        vertical-align: middle;\n",
       "    }\n",
       "\n",
       "    .dataframe tbody tr th {\n",
       "        vertical-align: top;\n",
       "    }\n",
       "\n",
       "    .dataframe thead th {\n",
       "        text-align: right;\n",
       "    }\n",
       "</style>\n",
       "<table border=\"1\" class=\"dataframe\">\n",
       "  <thead>\n",
       "    <tr style=\"text-align: right;\">\n",
       "      <th></th>\n",
       "      <th>Div</th>\n",
       "      <th>Date</th>\n",
       "      <th>Time</th>\n",
       "      <th>HomeTeam</th>\n",
       "      <th>AwayTeam</th>\n",
       "      <th>FTHG</th>\n",
       "      <th>FTAG</th>\n",
       "      <th>FTR</th>\n",
       "      <th>HTHG</th>\n",
       "      <th>HTAG</th>\n",
       "      <th>...</th>\n",
       "      <th>B365CAHH</th>\n",
       "      <th>B365CAHA</th>\n",
       "      <th>PCAHH</th>\n",
       "      <th>PCAHA</th>\n",
       "      <th>MaxCAHH</th>\n",
       "      <th>MaxCAHA</th>\n",
       "      <th>AvgCAHH</th>\n",
       "      <th>AvgCAHA</th>\n",
       "      <th>BFECAHH</th>\n",
       "      <th>BFECAHA</th>\n",
       "    </tr>\n",
       "  </thead>\n",
       "  <tbody>\n",
       "    <tr>\n",
       "      <th>0</th>\n",
       "      <td>E0</td>\n",
       "      <td>16/08/2024</td>\n",
       "      <td>20:00</td>\n",
       "      <td>Man United</td>\n",
       "      <td>Fulham</td>\n",
       "      <td>1</td>\n",
       "      <td>0</td>\n",
       "      <td>H</td>\n",
       "      <td>0</td>\n",
       "      <td>0</td>\n",
       "      <td>...</td>\n",
       "      <td>1.86</td>\n",
       "      <td>2.07</td>\n",
       "      <td>1.83</td>\n",
       "      <td>2.11</td>\n",
       "      <td>1.88</td>\n",
       "      <td>2.11</td>\n",
       "      <td>1.82</td>\n",
       "      <td>2.05</td>\n",
       "      <td>1.90</td>\n",
       "      <td>2.08</td>\n",
       "    </tr>\n",
       "    <tr>\n",
       "      <th>1</th>\n",
       "      <td>E0</td>\n",
       "      <td>17/08/2024</td>\n",
       "      <td>12:30</td>\n",
       "      <td>Ipswich</td>\n",
       "      <td>Liverpool</td>\n",
       "      <td>0</td>\n",
       "      <td>2</td>\n",
       "      <td>A</td>\n",
       "      <td>0</td>\n",
       "      <td>0</td>\n",
       "      <td>...</td>\n",
       "      <td>2.05</td>\n",
       "      <td>1.88</td>\n",
       "      <td>2.04</td>\n",
       "      <td>1.90</td>\n",
       "      <td>2.20</td>\n",
       "      <td>2.00</td>\n",
       "      <td>1.99</td>\n",
       "      <td>1.88</td>\n",
       "      <td>2.04</td>\n",
       "      <td>1.93</td>\n",
       "    </tr>\n",
       "    <tr>\n",
       "      <th>2</th>\n",
       "      <td>E0</td>\n",
       "      <td>17/08/2024</td>\n",
       "      <td>15:00</td>\n",
       "      <td>Arsenal</td>\n",
       "      <td>Wolves</td>\n",
       "      <td>2</td>\n",
       "      <td>0</td>\n",
       "      <td>H</td>\n",
       "      <td>1</td>\n",
       "      <td>0</td>\n",
       "      <td>...</td>\n",
       "      <td>2.02</td>\n",
       "      <td>1.91</td>\n",
       "      <td>2.00</td>\n",
       "      <td>1.90</td>\n",
       "      <td>2.05</td>\n",
       "      <td>1.93</td>\n",
       "      <td>1.99</td>\n",
       "      <td>1.87</td>\n",
       "      <td>2.02</td>\n",
       "      <td>1.96</td>\n",
       "    </tr>\n",
       "    <tr>\n",
       "      <th>3</th>\n",
       "      <td>E0</td>\n",
       "      <td>17/08/2024</td>\n",
       "      <td>15:00</td>\n",
       "      <td>Everton</td>\n",
       "      <td>Brighton</td>\n",
       "      <td>0</td>\n",
       "      <td>3</td>\n",
       "      <td>A</td>\n",
       "      <td>0</td>\n",
       "      <td>1</td>\n",
       "      <td>...</td>\n",
       "      <td>1.87</td>\n",
       "      <td>2.06</td>\n",
       "      <td>1.86</td>\n",
       "      <td>2.07</td>\n",
       "      <td>1.92</td>\n",
       "      <td>2.10</td>\n",
       "      <td>1.83</td>\n",
       "      <td>2.04</td>\n",
       "      <td>1.88</td>\n",
       "      <td>2.11</td>\n",
       "    </tr>\n",
       "    <tr>\n",
       "      <th>4</th>\n",
       "      <td>E0</td>\n",
       "      <td>17/08/2024</td>\n",
       "      <td>15:00</td>\n",
       "      <td>Newcastle</td>\n",
       "      <td>Southampton</td>\n",
       "      <td>1</td>\n",
       "      <td>0</td>\n",
       "      <td>H</td>\n",
       "      <td>1</td>\n",
       "      <td>0</td>\n",
       "      <td>...</td>\n",
       "      <td>1.87</td>\n",
       "      <td>2.06</td>\n",
       "      <td>1.88</td>\n",
       "      <td>2.06</td>\n",
       "      <td>1.89</td>\n",
       "      <td>2.10</td>\n",
       "      <td>1.82</td>\n",
       "      <td>2.05</td>\n",
       "      <td>1.89</td>\n",
       "      <td>2.10</td>\n",
       "    </tr>\n",
       "  </tbody>\n",
       "</table>\n",
       "<p>5 rows × 120 columns</p>\n",
       "</div>"
      ],
      "text/plain": [
       "  Div        Date   Time    HomeTeam     AwayTeam  FTHG  FTAG FTR  HTHG  HTAG  \\\n",
       "0  E0  16/08/2024  20:00  Man United       Fulham     1     0   H     0     0   \n",
       "1  E0  17/08/2024  12:30     Ipswich    Liverpool     0     2   A     0     0   \n",
       "2  E0  17/08/2024  15:00     Arsenal       Wolves     2     0   H     1     0   \n",
       "3  E0  17/08/2024  15:00     Everton     Brighton     0     3   A     0     1   \n",
       "4  E0  17/08/2024  15:00   Newcastle  Southampton     1     0   H     1     0   \n",
       "\n",
       "   ... B365CAHH B365CAHA  PCAHH  PCAHA  MaxCAHH  MaxCAHA  AvgCAHH  AvgCAHA  \\\n",
       "0  ...     1.86     2.07   1.83   2.11     1.88     2.11     1.82     2.05   \n",
       "1  ...     2.05     1.88   2.04   1.90     2.20     2.00     1.99     1.88   \n",
       "2  ...     2.02     1.91   2.00   1.90     2.05     1.93     1.99     1.87   \n",
       "3  ...     1.87     2.06   1.86   2.07     1.92     2.10     1.83     2.04   \n",
       "4  ...     1.87     2.06   1.88   2.06     1.89     2.10     1.82     2.05   \n",
       "\n",
       "   BFECAHH  BFECAHA  \n",
       "0     1.90     2.08  \n",
       "1     2.04     1.93  \n",
       "2     2.02     1.96  \n",
       "3     1.88     2.11  \n",
       "4     1.89     2.10  \n",
       "\n",
       "[5 rows x 120 columns]"
      ]
     },
     "execution_count": 3,
     "metadata": {},
     "output_type": "execute_result"
    }
   ],
   "source": [
    "df.head(5)"
   ]
  },
  {
   "cell_type": "code",
   "execution_count": null,
   "id": "60e46aa2",
   "metadata": {},
   "outputs": [
    {
     "data": {
      "text/plain": [
       "['Div', 'Date', 'Time', 'HomeTeam', 'AwayTeam', 'FTR', 'HTR', 'Referee']"
      ]
     },
     "execution_count": 4,
     "metadata": {},
     "output_type": "execute_result"
    }
   ],
   "source": [
    "# discover categorical columns\n",
    "df.select_dtypes(include=['object']).columns.tolist()"
   ]
  },
  {
   "cell_type": "markdown",
   "id": "d6148eb1",
   "metadata": {},
   "source": [
    "## Data cleaning"
   ]
  },
  {
   "cell_type": "code",
   "execution_count": 5,
   "id": "f4568274",
   "metadata": {},
   "outputs": [],
   "source": [
    "# convert columns to lower snake case\n",
    "df.columns = df.columns.str.lower().str.replace(\" \", \"_\").str.replace(\"-\", \"_\")\n",
    "\n",
    "# set date as datetime\n",
    "df['date'] = pd.to_datetime(df['date'], format='%d/%m/%Y')"
   ]
  },
  {
   "cell_type": "code",
   "execution_count": 6,
   "id": "a9242b1f",
   "metadata": {},
   "outputs": [
    {
     "data": {
      "text/plain": [
       "dtype('<M8[ns]')"
      ]
     },
     "execution_count": 6,
     "metadata": {},
     "output_type": "execute_result"
    }
   ],
   "source": [
    "df.dtypes[\"date\"]"
   ]
  },
  {
   "cell_type": "code",
   "execution_count": 7,
   "id": "483d1067",
   "metadata": {},
   "outputs": [
    {
     "data": {
      "text/html": [
       "<div>\n",
       "<style scoped>\n",
       "    .dataframe tbody tr th:only-of-type {\n",
       "        vertical-align: middle;\n",
       "    }\n",
       "\n",
       "    .dataframe tbody tr th {\n",
       "        vertical-align: top;\n",
       "    }\n",
       "\n",
       "    .dataframe thead th {\n",
       "        text-align: right;\n",
       "    }\n",
       "</style>\n",
       "<table border=\"1\" class=\"dataframe\">\n",
       "  <thead>\n",
       "    <tr style=\"text-align: right;\">\n",
       "      <th></th>\n",
       "      <th>div</th>\n",
       "      <th>date</th>\n",
       "      <th>time</th>\n",
       "      <th>hometeam</th>\n",
       "      <th>awayteam</th>\n",
       "      <th>fthg</th>\n",
       "      <th>ftag</th>\n",
       "      <th>ftr</th>\n",
       "      <th>hthg</th>\n",
       "      <th>htag</th>\n",
       "      <th>...</th>\n",
       "      <th>b365cahh</th>\n",
       "      <th>b365caha</th>\n",
       "      <th>pcahh</th>\n",
       "      <th>pcaha</th>\n",
       "      <th>maxcahh</th>\n",
       "      <th>maxcaha</th>\n",
       "      <th>avgcahh</th>\n",
       "      <th>avgcaha</th>\n",
       "      <th>bfecahh</th>\n",
       "      <th>bfecaha</th>\n",
       "    </tr>\n",
       "  </thead>\n",
       "  <tbody>\n",
       "    <tr>\n",
       "      <th>0</th>\n",
       "      <td>E0</td>\n",
       "      <td>2024-08-16</td>\n",
       "      <td>20:00</td>\n",
       "      <td>Man United</td>\n",
       "      <td>Fulham</td>\n",
       "      <td>1</td>\n",
       "      <td>0</td>\n",
       "      <td>H</td>\n",
       "      <td>0</td>\n",
       "      <td>0</td>\n",
       "      <td>...</td>\n",
       "      <td>1.86</td>\n",
       "      <td>2.07</td>\n",
       "      <td>1.83</td>\n",
       "      <td>2.11</td>\n",
       "      <td>1.88</td>\n",
       "      <td>2.11</td>\n",
       "      <td>1.82</td>\n",
       "      <td>2.05</td>\n",
       "      <td>1.90</td>\n",
       "      <td>2.08</td>\n",
       "    </tr>\n",
       "    <tr>\n",
       "      <th>1</th>\n",
       "      <td>E0</td>\n",
       "      <td>2024-08-17</td>\n",
       "      <td>12:30</td>\n",
       "      <td>Ipswich</td>\n",
       "      <td>Liverpool</td>\n",
       "      <td>0</td>\n",
       "      <td>2</td>\n",
       "      <td>A</td>\n",
       "      <td>0</td>\n",
       "      <td>0</td>\n",
       "      <td>...</td>\n",
       "      <td>2.05</td>\n",
       "      <td>1.88</td>\n",
       "      <td>2.04</td>\n",
       "      <td>1.90</td>\n",
       "      <td>2.20</td>\n",
       "      <td>2.00</td>\n",
       "      <td>1.99</td>\n",
       "      <td>1.88</td>\n",
       "      <td>2.04</td>\n",
       "      <td>1.93</td>\n",
       "    </tr>\n",
       "    <tr>\n",
       "      <th>2</th>\n",
       "      <td>E0</td>\n",
       "      <td>2024-08-17</td>\n",
       "      <td>15:00</td>\n",
       "      <td>Arsenal</td>\n",
       "      <td>Wolves</td>\n",
       "      <td>2</td>\n",
       "      <td>0</td>\n",
       "      <td>H</td>\n",
       "      <td>1</td>\n",
       "      <td>0</td>\n",
       "      <td>...</td>\n",
       "      <td>2.02</td>\n",
       "      <td>1.91</td>\n",
       "      <td>2.00</td>\n",
       "      <td>1.90</td>\n",
       "      <td>2.05</td>\n",
       "      <td>1.93</td>\n",
       "      <td>1.99</td>\n",
       "      <td>1.87</td>\n",
       "      <td>2.02</td>\n",
       "      <td>1.96</td>\n",
       "    </tr>\n",
       "    <tr>\n",
       "      <th>3</th>\n",
       "      <td>E0</td>\n",
       "      <td>2024-08-17</td>\n",
       "      <td>15:00</td>\n",
       "      <td>Everton</td>\n",
       "      <td>Brighton</td>\n",
       "      <td>0</td>\n",
       "      <td>3</td>\n",
       "      <td>A</td>\n",
       "      <td>0</td>\n",
       "      <td>1</td>\n",
       "      <td>...</td>\n",
       "      <td>1.87</td>\n",
       "      <td>2.06</td>\n",
       "      <td>1.86</td>\n",
       "      <td>2.07</td>\n",
       "      <td>1.92</td>\n",
       "      <td>2.10</td>\n",
       "      <td>1.83</td>\n",
       "      <td>2.04</td>\n",
       "      <td>1.88</td>\n",
       "      <td>2.11</td>\n",
       "    </tr>\n",
       "    <tr>\n",
       "      <th>4</th>\n",
       "      <td>E0</td>\n",
       "      <td>2024-08-17</td>\n",
       "      <td>15:00</td>\n",
       "      <td>Newcastle</td>\n",
       "      <td>Southampton</td>\n",
       "      <td>1</td>\n",
       "      <td>0</td>\n",
       "      <td>H</td>\n",
       "      <td>1</td>\n",
       "      <td>0</td>\n",
       "      <td>...</td>\n",
       "      <td>1.87</td>\n",
       "      <td>2.06</td>\n",
       "      <td>1.88</td>\n",
       "      <td>2.06</td>\n",
       "      <td>1.89</td>\n",
       "      <td>2.10</td>\n",
       "      <td>1.82</td>\n",
       "      <td>2.05</td>\n",
       "      <td>1.89</td>\n",
       "      <td>2.10</td>\n",
       "    </tr>\n",
       "  </tbody>\n",
       "</table>\n",
       "<p>5 rows × 120 columns</p>\n",
       "</div>"
      ],
      "text/plain": [
       "  div       date   time    hometeam     awayteam  fthg  ftag ftr  hthg  htag  \\\n",
       "0  E0 2024-08-16  20:00  Man United       Fulham     1     0   H     0     0   \n",
       "1  E0 2024-08-17  12:30     Ipswich    Liverpool     0     2   A     0     0   \n",
       "2  E0 2024-08-17  15:00     Arsenal       Wolves     2     0   H     1     0   \n",
       "3  E0 2024-08-17  15:00     Everton     Brighton     0     3   A     0     1   \n",
       "4  E0 2024-08-17  15:00   Newcastle  Southampton     1     0   H     1     0   \n",
       "\n",
       "   ... b365cahh b365caha  pcahh  pcaha  maxcahh  maxcaha  avgcahh  avgcaha  \\\n",
       "0  ...     1.86     2.07   1.83   2.11     1.88     2.11     1.82     2.05   \n",
       "1  ...     2.05     1.88   2.04   1.90     2.20     2.00     1.99     1.88   \n",
       "2  ...     2.02     1.91   2.00   1.90     2.05     1.93     1.99     1.87   \n",
       "3  ...     1.87     2.06   1.86   2.07     1.92     2.10     1.83     2.04   \n",
       "4  ...     1.87     2.06   1.88   2.06     1.89     2.10     1.82     2.05   \n",
       "\n",
       "   bfecahh  bfecaha  \n",
       "0     1.90     2.08  \n",
       "1     2.04     1.93  \n",
       "2     2.02     1.96  \n",
       "3     1.88     2.11  \n",
       "4     1.89     2.10  \n",
       "\n",
       "[5 rows x 120 columns]"
      ]
     },
     "execution_count": 7,
     "metadata": {},
     "output_type": "execute_result"
    }
   ],
   "source": [
    "df.head(5)"
   ]
  },
  {
   "cell_type": "markdown",
   "id": "9de9bd12",
   "metadata": {},
   "source": [
    "## Loading epl data to s3"
   ]
  },
  {
   "cell_type": "code",
   "execution_count": 8,
   "id": "a2803a40",
   "metadata": {},
   "outputs": [
    {
     "data": {
      "text/plain": [
       "{'ResponseMetadata': {'RequestId': 'RXZA53EN8B6GGTTV',\n",
       "  'HostId': 'pbm4PXX99LfGisIogVE7nLZaQnHvGKravOHVL/qPT1S+KqWA3n5Il/GAdmBmKhbQj22fu0oGSchgTn+XnBz592vVuRw6BECx',\n",
       "  'HTTPStatusCode': 200,\n",
       "  'HTTPHeaders': {'x-amz-id-2': 'pbm4PXX99LfGisIogVE7nLZaQnHvGKravOHVL/qPT1S+KqWA3n5Il/GAdmBmKhbQj22fu0oGSchgTn+XnBz592vVuRw6BECx',\n",
       "   'x-amz-request-id': 'RXZA53EN8B6GGTTV',\n",
       "   'date': 'Sat, 26 Jul 2025 20:48:13 GMT',\n",
       "   'x-amz-server-side-encryption': 'AES256',\n",
       "   'etag': '\"431dc2ab9731eba634f3aa93219a5cc0\"',\n",
       "   'x-amz-checksum-crc32': 'O/CBGQ==',\n",
       "   'x-amz-checksum-type': 'FULL_OBJECT',\n",
       "   'content-length': '0',\n",
       "   'server': 'AmazonS3'},\n",
       "  'RetryAttempts': 0},\n",
       " 'ETag': '\"431dc2ab9731eba634f3aa93219a5cc0\"',\n",
       " 'ChecksumCRC32': 'O/CBGQ==',\n",
       " 'ChecksumType': 'FULL_OBJECT',\n",
       " 'ServerSideEncryption': 'AES256'}"
      ]
     },
     "execution_count": 8,
     "metadata": {},
     "output_type": "execute_result"
    }
   ],
   "source": [
    "from io import BytesIO\n",
    "\n",
    "import boto3\n",
    "from uuid import uuid4\n",
    "\n",
    "client = boto3.client('s3')\n",
    "\n",
    "bucket_name = f'test-{uuid4()}'\n",
    "\n",
    "# Create a new S3 bucket\n",
    "client.create_bucket(Bucket=bucket_name, CreateBucketConfiguration={\n",
    "\t'LocationConstraint': client.meta.region_name\n",
    "})\n",
    "\n",
    "# Upload the DataFrame to S3\n",
    "file_name = '2425.e0.parquet'\n",
    "\n",
    "parquet_buffer = BytesIO()\n",
    "df.to_parquet(parquet_buffer, index=False)\n",
    "client.put_object(Bucket=bucket_name, Body=parquet_buffer.getvalue(), Key=file_name)"
   ]
  },
  {
   "cell_type": "markdown",
   "id": "30c04143",
   "metadata": {},
   "source": [
    "## Loading data to postgres"
   ]
  },
  {
   "cell_type": "code",
   "execution_count": 1,
   "id": "8a1335ae",
   "metadata": {},
   "outputs": [],
   "source": [
    "import sys\n",
    "sys.path.append('..')\n",
    "\n",
    "from src.core.config import get_config\n",
    "\n",
    "config = get_config()"
   ]
  },
  {
   "cell_type": "code",
   "execution_count": 24,
   "id": "1144777b",
   "metadata": {},
   "outputs": [
    {
     "data": {
      "text/plain": [
       "'{\"app_name\":\"epl-prediction\",\"environment\":\"development\",\"postgres_user\":\"admin\",\"postgres_password\":\"admin\",\"postgres_server\":\"localhost\",\"postgres_port\":5432,\"postgres_db\":\"monitoring\",\"aws_region\":\"eu-south-1\",\"s3_bucket_name\":null,\"model_version\":\"v1.0\",\"model_path\":null,\"api_host\":\"0.0.0.0\",\"api_port\":8000}'"
      ]
     },
     "execution_count": 24,
     "metadata": {},
     "output_type": "execute_result"
    }
   ],
   "source": [
    "# Dump the configuration to JSON\n",
    "config.model_dump_json()"
   ]
  },
  {
   "cell_type": "code",
   "execution_count": 2,
   "id": "d661ad30",
   "metadata": {},
   "outputs": [],
   "source": [
    "from sqlalchemy import create_engine, text\n",
    "\n",
    "engine = create_engine(config.database_url)"
   ]
  },
  {
   "cell_type": "code",
   "execution_count": 30,
   "id": "ba787ad0",
   "metadata": {},
   "outputs": [],
   "source": [
    "table_name = \"test_table\""
   ]
  },
  {
   "cell_type": "code",
   "execution_count": 28,
   "id": "7c549832",
   "metadata": {},
   "outputs": [
    {
     "data": {
      "text/plain": [
       "-1"
      ]
     },
     "execution_count": 28,
     "metadata": {},
     "output_type": "execute_result"
    }
   ],
   "source": [
    "df.to_sql(\n",
    "    name=table_name,\n",
    "    con=engine,\n",
    "    if_exists='replace',\n",
    "    index=False,\n",
    "    method='multi'\n",
    ")"
   ]
  },
  {
   "cell_type": "markdown",
   "id": "5c2a67c1",
   "metadata": {},
   "source": [
    "## Clean up"
   ]
  },
  {
   "cell_type": "code",
   "execution_count": 29,
   "id": "9cf47154",
   "metadata": {},
   "outputs": [
    {
     "data": {
      "text/plain": [
       "{'ResponseMetadata': {'RequestId': 'WTRBJ80QWAEFD6Y4',\n",
       "  'HostId': '1l7LjlGoXL0UhaJ1XNv1vXyl/uZbw+tPAw/39eVB7nuT0c+X2mB+v/0IkmG6IK0eYpQiSHXUF7Xyy/j3fo4Uy7ZEj5uxEvFS',\n",
       "  'HTTPStatusCode': 204,\n",
       "  'HTTPHeaders': {'x-amz-id-2': '1l7LjlGoXL0UhaJ1XNv1vXyl/uZbw+tPAw/39eVB7nuT0c+X2mB+v/0IkmG6IK0eYpQiSHXUF7Xyy/j3fo4Uy7ZEj5uxEvFS',\n",
       "   'x-amz-request-id': 'WTRBJ80QWAEFD6Y4',\n",
       "   'date': 'Sat, 26 Jul 2025 21:34:50 GMT',\n",
       "   'server': 'AmazonS3'},\n",
       "  'RetryAttempts': 0}}"
      ]
     },
     "execution_count": 29,
     "metadata": {},
     "output_type": "execute_result"
    }
   ],
   "source": [
    "client.delete_object(Bucket=bucket_name, Key=file_name)\n",
    "client.delete_bucket(Bucket=bucket_name)"
   ]
  },
  {
   "cell_type": "code",
   "execution_count": 31,
   "id": "019c709a",
   "metadata": {},
   "outputs": [],
   "source": [
    "with engine.connect() as connection:\n",
    "    connection.execute(text(f\"DROP TABLE {table_name}\"))\n",
    "    connection.commit()  # Explicitly commit the transaction"
   ]
  }
 ],
 "metadata": {
  "kernelspec": {
   "display_name": "EPL-predictions-nkQCYyuZ",
   "language": "python",
   "name": "python3"
  },
  "language_info": {
   "codemirror_mode": {
    "name": "ipython",
    "version": 3
   },
   "file_extension": ".py",
   "mimetype": "text/x-python",
   "name": "python",
   "nbconvert_exporter": "python",
   "pygments_lexer": "ipython3",
   "version": "3.11.7"
  }
 },
 "nbformat": 4,
 "nbformat_minor": 5
}
